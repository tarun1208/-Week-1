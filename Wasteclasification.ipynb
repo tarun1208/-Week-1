{
  "nbformat": 4,
  "nbformat_minor": 0,
  "metadata": {
    "colab": {
      "provenance": [],
      "mount_file_id": "1VQS8cD9R8QLsIPI6PRoTrqa3Jaf7OEgw",
      "authorship_tag": "ABX9TyPDCO+9PJRuiicuLUgg5FgH",
      "include_colab_link": true
    },
    "kernelspec": {
      "name": "python3",
      "display_name": "Python 3"
    },
    "language_info": {
      "name": "python"
    }
  },
  "cells": [
    {
      "cell_type": "markdown",
      "metadata": {
        "id": "view-in-github",
        "colab_type": "text"
      },
      "source": [
        "<a href=\"https://colab.research.google.com/github/tarun1208/-Week-1/blob/main/Wasteclasification.ipynb\" target=\"_parent\"><img src=\"https://colab.research.google.com/assets/colab-badge.svg\" alt=\"Open In Colab\"/></a>"
      ]
    },
    {
      "cell_type": "markdown",
      "source": [
        "**Waste Management using CNN Model**"
      ],
      "metadata": {
        "id": "7m_krrkiEHEM"
      }
    },
    {
      "cell_type": "code",
      "execution_count": 2,
      "metadata": {
        "id": "e3Wkrk6Q6O02"
      },
      "outputs": [],
      "source": [
        "#importing libraries\n",
        "import numpy as np\n",
        "import pandas as pd\n",
        "import matplotlib.pyplot as plt\n",
        "import cv2\n",
        "from tqdm import tqdm\n",
        "import warnings\n",
        "warnings.filterwarnings('ignore')"
      ]
    },
    {
      "cell_type": "code",
      "source": [
        "#data set\n",
        "df = pd.read_csv('')"
      ],
      "metadata": {
        "id": "s2aHHvt6RwRn"
      },
      "execution_count": null,
      "outputs": []
    },
    {
      "cell_type": "code",
      "source": [
        "#importing libraries\n",
        "from tensorflow.keras.models import Sequential\n",
        "from tensorflow.keras.layers import Conv2D, MaxPooling2D, Flatten, Dense, BatchNormalization\n",
        "from tensorflow.keras.preprocessing.image import ImageDataGenerator, img_to_array, load_img\n",
        "from tensorflow.keras.utils import plot_model\n",
        "from glob import glob #removed non-breking space"
      ],
      "metadata": {
        "id": "HI9q19HaIgXc"
      },
      "execution_count": null,
      "outputs": []
    },
    {
      "cell_type": "code",
      "source": [
        "#Visualization\n",
        "from cv2 import cvtColor\n",
        "\n",
        "X_data = []\n",
        "Y_data = []\n",
        "\n",
        "for category in glob(df + '/*'):\n",
        "    for file in tqdm(glob(category + '/*')):\n",
        "        img_array = cv2.imread(file)\n",
        "        img_array = cv2.cvtColor(img_array, cv2.COLOR_BGR2RGB)\n",
        "        X_data.append(img_array)\n",
        "        Y_data.append(category.split('/')[-1])\n",
        "\n",
        "data=pd.DataFrame({'image':X_data,'label':Y_data})"
      ],
      "metadata": {
        "id": "3n9yf9hxKJl2"
      },
      "execution_count": null,
      "outputs": []
    },
    {
      "cell_type": "code",
      "source": [
        "data.shape"
      ],
      "metadata": {
        "id": "TjBA54kMLxh9"
      },
      "execution_count": null,
      "outputs": []
    },
    {
      "cell_type": "code",
      "source": [
        "colors = ['lime', 'magenta']\n",
        "plt.pie(data.label.value_counts(), labels= ['Organic','Recyclable'],autopct='%0.2f%%',colors=colors,startangle=90,explode=[0.08,0.05])\n",
        "plt.show()"
      ],
      "metadata": {
        "id": "6EM14ix0L03l"
      },
      "execution_count": null,
      "outputs": []
    }
  ]
}